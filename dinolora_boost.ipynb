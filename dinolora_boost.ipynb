{
 "cells": [
  {
   "cell_type": "markdown",
   "id": "992ca6d8",
   "metadata": {},
   "source": [
    "## Initilization"
   ]
  },
  {
   "cell_type": "code",
   "execution_count": 1,
   "id": "99f4fe3a",
   "metadata": {
    "ExecuteTime": {
     "end_time": "2024-05-28T15:18:11.156766Z",
     "start_time": "2024-05-28T15:17:58.389560Z"
    },
    "execution": {
     "iopub.execute_input": "2024-05-30T14:03:07.963980Z",
     "iopub.status.busy": "2024-05-30T14:03:07.963315Z",
     "iopub.status.idle": "2024-05-30T14:03:20.060344Z",
     "shell.execute_reply": "2024-05-30T14:03:20.059469Z"
    },
    "papermill": {
     "duration": 12.110213,
     "end_time": "2024-05-30T14:03:20.062691",
     "exception": false,
     "start_time": "2024-05-30T14:03:07.952478",
     "status": "completed"
    },
    "tags": []
   },
   "outputs": [],
   "source": [
    "import math\n",
    "import torch\n",
    "import torchmetrics\n",
    "import time\n",
    "import numpy as np\n",
    "import pandas as pd\n",
    "import imageio.v3 as imageio\n",
    "import albumentations as A\n",
    "import torch.nn as nn\n",
    "\n",
    "from albumentations.pytorch import ToTensorV2\n",
    "from torch.utils.data import Dataset, DataLoader\n",
    "from tqdm.notebook import tqdm\n",
    "from sklearn.preprocessing import StandardScaler\n",
    "from sklearn.metrics import r2_score"
   ]
  },
  {
   "cell_type": "code",
   "execution_count": 2,
   "id": "f2f91e44",
   "metadata": {
    "ExecuteTime": {
     "end_time": "2024-05-28T15:18:11.172549Z",
     "start_time": "2024-05-28T15:18:11.159379Z"
    },
    "execution": {
     "iopub.execute_input": "2024-05-30T14:03:20.084319Z",
     "iopub.status.busy": "2024-05-30T14:03:20.083798Z",
     "iopub.status.idle": "2024-05-30T14:03:20.090037Z",
     "shell.execute_reply": "2024-05-30T14:03:20.089166Z"
    },
    "papermill": {
     "duration": 0.018515,
     "end_time": "2024-05-30T14:03:20.091861",
     "exception": false,
     "start_time": "2024-05-30T14:03:20.073346",
     "status": "completed"
    },
    "tags": []
   },
   "outputs": [
    {
     "name": "stdout",
     "output_type": "stream",
     "text": [
      "cuda:0\n"
     ]
    }
   ],
   "source": [
    "torch.manual_seed(3407)\n",
    "np.random.seed(3407)\n",
    "device = 'cuda:0' if torch.cuda.is_available() else 'cpu'\n",
    "print(device)"
   ]
  },
  {
   "cell_type": "markdown",
   "id": "e52e36c1",
   "metadata": {},
   "source": [
    "## Define Classes"
   ]
  },
  {
   "cell_type": "code",
   "execution_count": 3,
   "id": "03a28aa2",
   "metadata": {
    "ExecuteTime": {
     "end_time": "2024-05-28T15:18:19.085089Z",
     "start_time": "2024-05-28T15:18:19.068928Z"
    },
    "execution": {
     "iopub.execute_input": "2024-05-30T14:03:20.130510Z",
     "iopub.status.busy": "2024-05-30T14:03:20.130242Z",
     "iopub.status.idle": "2024-05-30T14:03:20.135667Z",
     "shell.execute_reply": "2024-05-30T14:03:20.134859Z"
    },
    "papermill": {
     "duration": 0.017434,
     "end_time": "2024-05-30T14:03:20.137461",
     "exception": false,
     "start_time": "2024-05-30T14:03:20.120027",
     "status": "completed"
    },
    "tags": []
   },
   "outputs": [],
   "source": [
    "class Config():\n",
    "    IMAGE_SIZE = 224\n",
    "    TARGET_COLUMNS = ['X4_mean', 'X11_mean', 'X18_mean', 'X50_mean', 'X26_mean', 'X3112_mean']\n",
    "    N_TARGETS = len(TARGET_COLUMNS)\n",
    "    BATCH_SIZE = 64\n",
    "    LR_MAX = 1e-3\n",
    "    WEIGHT_DECAY = 0.01\n",
    "    N_EPOCHS = 6\n",
    "    TRAIN_MODEL = True\n",
    "    IS_INTERACTIVE = True \n",
    "    tpu_ids = range(8)\n",
    "    SHRINK_SAMPLES = True\n",
    "    Lower_Quantile = 0.005\n",
    "    Upper_Quantile = 0.985\n",
    "\n",
    "CONFIG = Config()"
   ]
  },
  {
   "cell_type": "code",
   "execution_count": 4,
   "id": "855143de",
   "metadata": {
    "ExecuteTime": {
     "end_time": "2024-05-28T15:18:20.170827Z",
     "start_time": "2024-05-28T15:18:20.152606Z"
    },
    "execution": {
     "iopub.execute_input": "2024-05-30T14:03:20.157721Z",
     "iopub.status.busy": "2024-05-30T14:03:20.157465Z",
     "iopub.status.idle": "2024-05-30T14:03:20.163457Z",
     "shell.execute_reply": "2024-05-30T14:03:20.162719Z"
    },
    "papermill": {
     "duration": 0.01812,
     "end_time": "2024-05-30T14:03:20.165322",
     "exception": false,
     "start_time": "2024-05-30T14:03:20.147202",
     "status": "completed"
    },
    "tags": []
   },
   "outputs": [],
   "source": [
    "class TrainDataset(Dataset):\n",
    "    def __init__(self, X_jpeg_bytes, X_tabular, y, transforms=None):\n",
    "        self.X_jpeg_bytes = X_jpeg_bytes\n",
    "        self.X_tabular = X_tabular\n",
    "        self.y = y\n",
    "        self.transforms = transforms\n",
    "\n",
    "    def __len__(self):\n",
    "        return len(self.y)\n",
    "\n",
    "    def __getitem__(self, index):\n",
    "        X_sample = self.transforms(image=imageio.imread(self.X_jpeg_bytes[index]),)['image']\n",
    "        X_sample.size()\n",
    "        X_tabular_sample = self.X_tabular[index]\n",
    "        y_sample = self.y[index]\n",
    "\n",
    "        return X_sample, X_tabular_sample, y_sample"
   ]
  },
  {
   "cell_type": "code",
   "execution_count": 5,
   "id": "3ed7459d",
   "metadata": {},
   "outputs": [],
   "source": [
    "class LoRA(nn.Module):\n",
    "    \"\"\"Low-Rank Adaptation for the for Query (Q), Key (Q), Value (V) matrices\"\"\"\n",
    "    def __init__(\n",
    "        self,\n",
    "        qkv: nn.Module,\n",
    "        linear_a_q: nn.Module,\n",
    "        linear_b_q: nn.Module,\n",
    "        linear_a_v: nn.Module,\n",
    "        linear_b_v: nn.Module,\n",
    "    ):\n",
    "        super().__init__()\n",
    "        self.qkv = qkv\n",
    "        self.linear_a_q = linear_a_q\n",
    "        self.linear_b_q = linear_b_q\n",
    "        self.linear_a_v = linear_a_v\n",
    "        self.linear_b_v = linear_b_v\n",
    "        self.dim = qkv.in_features\n",
    "        self.w_identity = torch.eye(self.dim)\n",
    "\n",
    "    def forward(self, x) -> torch.Tensor:\n",
    "        # Compute the original qkv\n",
    "        qkv = self.qkv(x)  # Shape: (B, N, 3 * org_C)\n",
    "\n",
    "        # Compute the new q and v components\n",
    "        new_q = self.linear_b_q(self.linear_a_q(x))\n",
    "        new_v = self.linear_b_v(self.linear_a_v(x))\n",
    "\n",
    "        # Add new q and v components to the original qkv tensor\n",
    "        qkv[:, :, : self.dim] += new_q\n",
    "        qkv[:, :, -self.dim :] += new_v\n",
    "\n",
    "        return qkv\n",
    "\n",
    "class DINOV2EncoderLoRA(nn.Module):\n",
    "    def __init__(\n",
    "        self,\n",
    "        encoder,\n",
    "        r: int = 3,\n",
    "        emb_dim: int = 768,\n",
    "        use_lora: bool = True,\n",
    "        img_dim: tuple[int, int] = (224, 224),\n",
    "    ):\n",
    "        \"\"\"The DINOv2 encoder-decoder model for finetuning to downstream tasks.\n",
    "\n",
    "        Args:\n",
    "            encoder (nn.Module): The ViT encoder model loaded with the DINOv2 model weights.\n",
    "            r (int, optional): The rank parameter of the LoRA weights. Defaults to 3.\n",
    "            emb_dim (int, optional): The embedding dimension of the encoder. Defaults to 1024.\n",
    "            n_classes (int, optional): The number of classes to output. Defaults to 1000.\n",
    "            use_lora (bool, optional): Determines whether to use LoRA. Defaults to False.\n",
    "            use_fpn (bool, optional): Determines whether to use the FPN decoder. Defaults to\n",
    "                False.\n",
    "            img_dim (tuple[int, int], optional): The input image dimension. Defaults to\n",
    "                (520, 520).\n",
    "        \"\"\"\n",
    "        super().__init__()\n",
    "        # assert img_dim[0] % encoder.patch_size == 0, \"Wrong input shape for patches\"\n",
    "        # assert r > 0\n",
    "\n",
    "        self.emb_dim = emb_dim\n",
    "        self.img_dim = img_dim\n",
    "        self.use_lora = use_lora\n",
    "\n",
    "        # Number of previous layers to use as input\n",
    "        self.inter_layers = 4\n",
    "\n",
    "        self.encoder = encoder\n",
    "        for param in self.encoder.parameters():\n",
    "            param.requires_grad = False\n",
    "\n",
    "        # Add LoRA layers to the encoder\n",
    "        if self.use_lora:\n",
    "            self.lora_layers = list(range(len(self.encoder.blocks)))\n",
    "            self.w_a = []\n",
    "            self.w_b = []\n",
    "\n",
    "            for i, block in enumerate(self.encoder.blocks):\n",
    "                if i not in self.lora_layers:\n",
    "                    continue\n",
    "                w_qkv_linear = block.attn.qkv\n",
    "                dim = w_qkv_linear.in_features\n",
    "\n",
    "                w_a_linear_q, w_b_linear_q = self._create_lora_layer(dim, r)\n",
    "                w_a_linear_v, w_b_linear_v = self._create_lora_layer(dim, r)\n",
    "\n",
    "                self.w_a.extend([w_a_linear_q, w_a_linear_v])\n",
    "                self.w_b.extend([w_b_linear_q, w_b_linear_v])\n",
    "\n",
    "                block.attn.qkv = LoRA(\n",
    "                    w_qkv_linear,\n",
    "                    w_a_linear_q,\n",
    "                    w_b_linear_q,\n",
    "                    w_a_linear_v,\n",
    "                    w_b_linear_v,\n",
    "                )\n",
    "            self._reset_lora_parameters()\n",
    "\n",
    "    def _create_lora_layer(self, dim: int, r: int):\n",
    "        w_a = nn.Linear(dim, r, bias=False)\n",
    "        w_b = nn.Linear(r, dim, bias=False)\n",
    "        return w_a, w_b\n",
    "\n",
    "    def _reset_lora_parameters(self) -> None:\n",
    "        for w_a in self.w_a:\n",
    "            nn.init.kaiming_uniform_(w_a.weight, a=math.sqrt(5))\n",
    "        for w_b in self.w_b:\n",
    "            nn.init.zeros_(w_b.weight)\n",
    "\n",
    "    def forward(self, x: torch.Tensor) -> torch.Tensor:\n",
    "        feature = self.encoder(x)\n",
    "        return feature"
   ]
  },
  {
   "cell_type": "code",
   "execution_count": 6,
   "id": "55d2e7b0",
   "metadata": {
    "ExecuteTime": {
     "end_time": "2024-05-28T15:18:21.201094Z",
     "start_time": "2024-05-28T15:18:21.186375Z"
    },
    "execution": {
     "iopub.execute_input": "2024-05-30T14:03:20.186460Z",
     "iopub.status.busy": "2024-05-30T14:03:20.186042Z",
     "iopub.status.idle": "2024-05-30T14:03:20.198529Z",
     "shell.execute_reply": "2024-05-30T14:03:20.197775Z"
    },
    "papermill": {
     "duration": 0.024758,
     "end_time": "2024-05-30T14:03:20.200368",
     "exception": false,
     "start_time": "2024-05-30T14:03:20.175610",
     "status": "completed"
    },
    "tags": []
   },
   "outputs": [],
   "source": [
    "class TabularBackbone(nn.Module):\n",
    "    def __init__(self, n_features, out_features):\n",
    "        super().__init__()\n",
    "        self.out_features = out_features\n",
    "        self.fc = nn.Sequential(\n",
    "            nn.Linear(n_features, 512),\n",
    "            nn.BatchNorm1d(512),\n",
    "            nn.GELU(),\n",
    "            # nn.Dropout(0.1),\n",
    "            nn.Linear(512, out_features),\n",
    "        )\n",
    "\n",
    "    def forward(self, x):\n",
    "        return self.fc(x)\n",
    "    \n",
    "class ImageBackbone(nn.Module):\n",
    "    def __init__(self, model, out_features, fixed_feature_extractor=False):\n",
    "        super().__init__()\n",
    "        self.out_features = out_features\n",
    "        # self.backbone = timm.create_model(backbone_name, pretrained=False, num_classes=CONFIG.N_TARGETS)\n",
    "        # self.backbone.load_state_dict(torch.load(weight_path))\n",
    "        self.backbone = model\n",
    "        if fixed_feature_extractor:\n",
    "            for param in self.backbone.parameters():\n",
    "                param.requires_grad = False\n",
    "        in_features = self.backbone.encoder.num_features\n",
    "        # self.backbone.head = nn.Identity()\n",
    "        # self.head = nn.Sequential(\n",
    "        # #     nn.AdaptiveAvgPool2d(1),\n",
    "        # #     nn.Flatten(),\n",
    "        #     nn.Linear(in_features, out_features),\n",
    "        # )\n",
    "\n",
    "    def forward(self, x):\n",
    "        x = self.backbone(x)\n",
    "        # print(x.size())\n",
    "        # x = x.permute(0, 3, 1, 2)\n",
    "        return x\n",
    "        # return self.head(x)\n",
    "\n",
    "# class ImageBackbone(nn.Module):\n",
    "#     def __init__(self, model, out_features, fixed_feature_extractor=False):\n",
    "#         super().__init__()\n",
    "#         self.out_features = out_features\n",
    "#         # self.backbone = timm.create_model(backbone_name, pretrained=False, num_classes=CONFIG.N_TARGETS)\n",
    "#         # self.backbone.load_state_dict(torch.load(weight_path))\n",
    "#         # if fixed_feature_extractor:\n",
    "#         #     for param in self.backbone.parameters():\n",
    "#         #         param.requires_grad = False\n",
    "#         self.backbone = model\n",
    "#         in_features = self.backbone.encoder.num_features\n",
    "        \n",
    "#         self.backbone.head = nn.Identity()\n",
    "#         self.head = nn.Sequential(\n",
    "#             nn.AdaptiveAvgPool2d(1),\n",
    "#             nn.Flatten(),\n",
    "#             nn.Linear(in_features, out_features),\n",
    "#         )\n",
    "\n",
    "#     def forward(self, x):\n",
    "#         x = self.backbone(x)\n",
    "#         x = x.permute(0, 3, 1, 2)\n",
    "#         return self.head(x)\n",
    "\n",
    "\n",
    "class Model(nn.Module):\n",
    "    def __init__(self, img_backbone, tab_backbone, out_features:int):\n",
    "        super().__init__()\n",
    "        self.img_backbone = img_backbone\n",
    "        self.tab_backbone = tab_backbone\n",
    "        self.fc = nn.Sequential(\n",
    "            nn.Linear(self.tab_backbone.out_features + self.img_backbone.out_features, 1024),\n",
    "            nn.BatchNorm1d(1024),\n",
    "            nn.GELU(),\n",
    "            # nn.Dropout(0.1),\n",
    "            nn.Linear(1024, 512),\n",
    "            nn.BatchNorm1d(512),\n",
    "            nn.GELU(),\n",
    "            # nn.Dropout(0.1),\n",
    "        )\n",
    "        self.out = nn.Linear(512, out_features)\n",
    "\n",
    "    def forward(self, img, tab):\n",
    "        img_features = self.img_backbone(img)\n",
    "        tab_features = self.tab_backbone(tab)\n",
    "        features = torch.cat([img_features, tab_features], dim=1)\n",
    "        features = self.fc(features)\n",
    "        return self.out(features)\n",
    "    \n",
    "    def get_middle_layer(self, img, tab):\n",
    "        img_features = self.img_backbone(img)\n",
    "        tab_features = self.tab_backbone(tab)\n",
    "        features = torch.cat([img_features, tab_features], dim=1)\n",
    "        return features\n",
    "    \n",
    "    def get_middle_layer2(self, img, tab):\n",
    "        img_features = self.img_backbone(img)\n",
    "        tab_features = self.tab_backbone(tab)\n",
    "        features = torch.cat([img_features, tab_features], dim=1)\n",
    "        return self.fc(features)"
   ]
  },
  {
   "cell_type": "code",
   "execution_count": 7,
   "id": "ccee0105",
   "metadata": {
    "ExecuteTime": {
     "end_time": "2024-05-28T15:18:22.115876Z",
     "start_time": "2024-05-28T15:18:22.103131Z"
    },
    "execution": {
     "iopub.execute_input": "2024-05-30T14:03:20.220519Z",
     "iopub.status.busy": "2024-05-30T14:03:20.220253Z",
     "iopub.status.idle": "2024-05-30T14:03:20.225458Z",
     "shell.execute_reply": "2024-05-30T14:03:20.224670Z"
    },
    "papermill": {
     "duration": 0.017396,
     "end_time": "2024-05-30T14:03:20.227246",
     "exception": false,
     "start_time": "2024-05-30T14:03:20.209850",
     "status": "completed"
    },
    "tags": []
   },
   "outputs": [],
   "source": [
    "class AverageMeter(object):\n",
    "    def __init__(self):\n",
    "        self.reset()\n",
    "\n",
    "    def reset(self):\n",
    "        self.avg = 0\n",
    "        self.sum = 0\n",
    "        self.count = 0\n",
    "\n",
    "    def update(self, val):\n",
    "        self.sum += val.sum()\n",
    "        self.count += val.numel()\n",
    "        self.avg = self.sum / self.count"
   ]
  },
  {
   "cell_type": "code",
   "execution_count": 8,
   "id": "e83e8d4e",
   "metadata": {
    "ExecuteTime": {
     "end_time": "2024-05-28T15:18:24.197759Z",
     "start_time": "2024-05-28T15:18:24.185883Z"
    },
    "execution": {
     "iopub.execute_input": "2024-05-30T14:03:20.247198Z",
     "iopub.status.busy": "2024-05-30T14:03:20.246917Z",
     "iopub.status.idle": "2024-05-30T14:03:20.251459Z",
     "shell.execute_reply": "2024-05-30T14:03:20.250618Z"
    },
    "papermill": {
     "duration": 0.016632,
     "end_time": "2024-05-30T14:03:20.253333",
     "exception": false,
     "start_time": "2024-05-30T14:03:20.236701",
     "status": "completed"
    },
    "tags": []
   },
   "outputs": [],
   "source": [
    "def get_lr_scheduler(optimizer):\n",
    "    return torch.optim.lr_scheduler.OneCycleLR(\n",
    "        optimizer=optimizer,\n",
    "        max_lr=CONFIG.LR_MAX,\n",
    "        total_steps=CONFIG.N_STEPS,\n",
    "        pct_start=0.1,\n",
    "        anneal_strategy='cos',\n",
    "        div_factor=1e1,\n",
    "        final_div_factor=1e1,\n",
    "    )"
   ]
  },
  {
   "cell_type": "markdown",
   "id": "fa601d27",
   "metadata": {},
   "source": [
    "## Data Preprocess"
   ]
  },
  {
   "cell_type": "code",
   "execution_count": 9,
   "id": "7d885a79",
   "metadata": {
    "ExecuteTime": {
     "end_time": "2024-05-28T15:18:25.872167Z",
     "start_time": "2024-05-28T15:18:25.005850Z"
    },
    "execution": {
     "iopub.execute_input": "2024-05-30T14:03:20.310645Z",
     "iopub.status.busy": "2024-05-30T14:03:20.310112Z",
     "iopub.status.idle": "2024-05-30T14:03:22.815330Z",
     "shell.execute_reply": "2024-05-30T14:03:22.814258Z"
    },
    "papermill": {
     "duration": 2.517762,
     "end_time": "2024-05-30T14:03:22.817838",
     "exception": false,
     "start_time": "2024-05-30T14:03:20.300076",
     "status": "completed"
    },
    "tags": []
   },
   "outputs": [],
   "source": [
    "train = pd.read_csv('./data/train.csv')\n",
    "test = pd.read_csv('./data/test.csv')"
   ]
  },
  {
   "cell_type": "code",
   "execution_count": null,
   "id": "e128df81",
   "metadata": {},
   "outputs": [],
   "source": [
    "for column in CONFIG.TARGET_COLUMNS:\n",
    "    lower_quantile = train[column].quantile(CONFIG.Lower_Quantile)\n",
    "    upper_quantile = train[column].quantile(CONFIG.Upper_Quantile)\n",
    "    train = train[(train[column] >= lower_quantile) & (train[column] <= upper_quantile)]"
   ]
  },
  {
   "cell_type": "code",
   "execution_count": 10,
   "id": "d9103b69",
   "metadata": {
    "ExecuteTime": {
     "end_time": "2024-05-28T15:18:27.820896Z",
     "start_time": "2024-05-28T15:18:27.788793Z"
    },
    "execution": {
     "iopub.execute_input": "2024-05-30T14:03:23.098695Z",
     "iopub.status.busy": "2024-05-30T14:03:23.098389Z",
     "iopub.status.idle": "2024-05-30T14:03:23.123129Z",
     "shell.execute_reply": "2024-05-30T14:03:23.122382Z"
    },
    "papermill": {
     "duration": 0.037417,
     "end_time": "2024-05-30T14:03:23.125254",
     "exception": false,
     "start_time": "2024-05-30T14:03:23.087837",
     "status": "completed"
    },
    "tags": []
   },
   "outputs": [],
   "source": [
    "tabular = train.drop(columns = ['id'] + CONFIG.TARGET_COLUMNS)\n",
    "test_tabular = test.drop(columns = ['id'])"
   ]
  },
  {
   "cell_type": "code",
   "execution_count": 11,
   "id": "c1a02c97",
   "metadata": {},
   "outputs": [
    {
     "name": "stdout",
     "output_type": "stream",
     "text": [
      "count    43363.000000\n",
      "mean         1.036241\n",
      "std          0.137331\n",
      "min          0.292916\n",
      "25%          0.931597\n",
      "50%          1.022794\n",
      "75%          1.136239\n",
      "max          1.375341\n",
      "Name: X4_mean, dtype: float64\n",
      "count    43363.000000\n",
      "mean       148.317376\n",
      "std          6.917481\n",
      "min        133.873997\n",
      "25%        143.639199\n",
      "50%        147.910145\n",
      "75%        152.141569\n",
      "max        174.258658\n",
      "Name: X11_mean, dtype: float64\n",
      "count    43363.000000\n",
      "mean     19701.645041\n",
      "std          4.310425\n",
      "min      19699.026028\n",
      "25%      19699.318300\n",
      "50%      19699.670898\n",
      "75%      19701.782857\n",
      "max      19722.541806\n",
      "Name: X18_mean, dtype: float64\n",
      "count    43363.000000\n",
      "mean        15.112067\n",
      "std          0.593199\n",
      "min         13.605091\n",
      "25%         14.704580\n",
      "50%         14.993104\n",
      "75%         15.410583\n",
      "max         17.167426\n",
      "Name: X50_mean, dtype: float64\n",
      "count    43363.000000\n",
      "mean      3481.911812\n",
      "std         67.098749\n",
      "min       3459.400072\n",
      "25%       3459.897088\n",
      "50%       3461.565899\n",
      "75%       3470.972528\n",
      "max       4179.837990\n",
      "Name: X26_mean, dtype: float64\n",
      "count     43363.000000\n",
      "mean     399120.598362\n",
      "std        2254.968686\n",
      "min      397556.993742\n",
      "25%      397807.767628\n",
      "50%      398227.480539\n",
      "75%      399464.013958\n",
      "max      413183.477442\n",
      "Name: X3112_mean, dtype: float64\n"
     ]
    },
    {
     "data": {
      "image/png": "[encoded data removed]",
      "text/plain": [
       "<Figure size 1500x1200 with 6 Axes>"
      ]
     },
     "metadata": {},
     "output_type": "display_data"
    }
   ],
   "source": [
    "# Plot of distributions\n",
    "X4 = train[\"X4_mean\"]\n",
    "X11 = train[\"X11_mean\"]\n",
    "X18 = train[\"X18_mean\"]\n",
    "X50 = train[\"X50_mean\"]\n",
    "X26 = train[\"X26_mean\"]\n",
    "X3112 = train[\"X3112_mean\"]\n",
    "Traits = ['X4_mean', 'X11_mean', 'X18_mean', 'X50_mean', 'X26_mean', 'X3112_mean']\n",
    "\n",
    "import matplotlib.pyplot as plt\n",
    "\n",
    "num_traits = len(Traits)\n",
    "\n",
    "# Create a 3x2 subplot grid\n",
    "fig, axes = plt.subplots(2, 3, figsize=(15, 12))\n",
    "axes = axes.flatten()  # Flatten the 3x2 array into a 1D array for easy iteration\n",
    "\n",
    "for i, Trait in enumerate(Traits):\n",
    "    ax = axes[i]\n",
    "    ax.hist(train[Trait], bins=20, edgecolor='black', alpha=0.5)\n",
    "    ax.set_title(f'Histogram of {Trait}')\n",
    "    ax.set_xlabel(Trait)\n",
    "    ax.set_ylabel('Frequency')\n",
    "    ax.tick_params(axis='x', rotation=45) \n",
    "\n",
    "    # Print summary statistics\n",
    "    print(train[Trait].describe())\n",
    "\n",
    "# Hide any empty subplots (if number of traits is less than 6)\n",
    "for j in range(i + 1, len(axes)):\n",
    "    fig.delaxes(axes[j])\n",
    "\n",
    "plt.tight_layout()\n",
    "plt.show()"
   ]
  },
  {
   "cell_type": "code",
   "execution_count": 12,
   "id": "330db897",
   "metadata": {
    "ExecuteTime": {
     "end_time": "2024-05-28T15:18:33.852366Z",
     "start_time": "2024-05-28T15:18:33.838366Z"
    },
    "execution": {
     "iopub.execute_input": "2024-05-30T14:03:29.119815Z",
     "iopub.status.busy": "2024-05-30T14:03:29.118950Z",
     "iopub.status.idle": "2024-05-30T14:03:29.128010Z",
     "shell.execute_reply": "2024-05-30T14:03:29.127169Z"
    },
    "papermill": {
     "duration": 0.021936,
     "end_time": "2024-05-30T14:03:29.130240",
     "exception": false,
     "start_time": "2024-05-30T14:03:29.108304",
     "status": "completed"
    },
    "tags": []
   },
   "outputs": [],
   "source": [
    "# Log Transforamtion\n",
    "LOG_FEATURES = ['X4_mean', 'X11_mean', 'X18_mean', 'X50_mean', 'X26_mean', 'X3112_mean']\n",
    "\n",
    "y_train = np.zeros_like(train[CONFIG.TARGET_COLUMNS], dtype=np.float32)\n",
    "for target_idx, target in enumerate(CONFIG.TARGET_COLUMNS):\n",
    "    v = train[target].values\n",
    "    if target in LOG_FEATURES:\n",
    "        v = np.log10(v)\n",
    "    y_train[:, target_idx] = v"
   ]
  },
  {
   "cell_type": "code",
   "execution_count": 13,
   "id": "376555f7",
   "metadata": {
    "ExecuteTime": {
     "end_time": "2024-05-28T15:18:33.929952Z",
     "start_time": "2024-05-28T15:18:33.854813Z"
    },
    "execution": {
     "iopub.execute_input": "2024-05-30T14:03:29.155210Z",
     "iopub.status.busy": "2024-05-30T14:03:29.154559Z",
     "iopub.status.idle": "2024-05-30T14:03:29.211055Z",
     "shell.execute_reply": "2024-05-30T14:03:29.210091Z"
    },
    "papermill": {
     "duration": 0.069621,
     "end_time": "2024-05-30T14:03:29.213482",
     "exception": false,
     "start_time": "2024-05-30T14:03:29.143861",
     "status": "completed"
    },
    "tags": []
   },
   "outputs": [],
   "source": [
    "# Normalize input\n",
    "X_SCALER = StandardScaler()\n",
    "tabular_scaled = X_SCALER.fit_transform(tabular).astype(np.float32)\n",
    "test_tabular_scaled = X_SCALER.transform(test_tabular).astype(np.float32)\n",
    "\n",
    "Y_SCALER = StandardScaler()\n",
    "y_train_scaled = Y_SCALER.fit_transform(y_train).astype(np.float32)"
   ]
  },
  {
   "cell_type": "code",
   "execution_count": 14,
   "id": "b95d6ab2",
   "metadata": {
    "ExecuteTime": {
     "end_time": "2024-05-28T15:22:43.972651Z",
     "start_time": "2024-05-28T15:18:33.934227Z"
    },
    "execution": {
     "iopub.execute_input": "2024-05-30T14:03:29.234754Z",
     "iopub.status.busy": "2024-05-30T14:03:29.234448Z",
     "iopub.status.idle": "2024-05-30T14:07:34.770127Z",
     "shell.execute_reply": "2024-05-30T14:07:34.769180Z"
    },
    "papermill": {
     "duration": 245.557661,
     "end_time": "2024-05-30T14:07:34.781396",
     "exception": false,
     "start_time": "2024-05-30T14:03:29.223735",
     "status": "completed"
    },
    "tags": []
   },
   "outputs": [
    {
     "name": "stdout",
     "output_type": "stream",
     "text": [
      "JPEG Files Processing:\n",
      "JPEG Files Processing End\n"
     ]
    }
   ],
   "source": [
    "# Set image paths\n",
    "print('JPEG Files Processing:')\n",
    "train['file_path'] = train['id'].astype(str).apply(lambda x: f'./data/train_images/{x}.jpeg')\n",
    "train['jpeg_bytes'] = train['file_path'].apply(lambda fp: open(fp, 'rb').read())\n",
    "test['file_path'] = test['id'].astype(str).apply(lambda x: f'./data/test_images/{x}.jpeg')\n",
    "test['jpeg_bytes'] = test['file_path'].apply(lambda fp: open(fp, 'rb').read())\n",
    "print('JPEG Files Processing End')"
   ]
  },
  {
   "cell_type": "code",
   "execution_count": 15,
   "id": "8051956f",
   "metadata": {
    "ExecuteTime": {
     "end_time": "2024-05-28T15:22:43.987914Z",
     "start_time": "2024-05-28T15:22:43.975643Z"
    },
    "execution": {
     "iopub.execute_input": "2024-05-30T14:07:34.802664Z",
     "iopub.status.busy": "2024-05-30T14:07:34.802320Z",
     "iopub.status.idle": "2024-05-30T14:07:34.806931Z",
     "shell.execute_reply": "2024-05-30T14:07:34.806083Z"
    },
    "papermill": {
     "duration": 0.017538,
     "end_time": "2024-05-30T14:07:34.808806",
     "exception": false,
     "start_time": "2024-05-30T14:07:34.791268",
     "status": "completed"
    },
    "tags": []
   },
   "outputs": [],
   "source": [
    "CONFIG.N_TRAIN_SAMPLES = len(tabular_scaled)\n",
    "CONFIG.N_STEPS_PER_EPOCH = (CONFIG.N_TRAIN_SAMPLES // CONFIG.BATCH_SIZE)\n",
    "CONFIG.N_STEPS = CONFIG.N_STEPS_PER_EPOCH * CONFIG.N_EPOCHS + 1"
   ]
  },
  {
   "cell_type": "code",
   "execution_count": 16,
   "id": "75194203",
   "metadata": {
    "ExecuteTime": {
     "end_time": "2024-05-28T15:22:44.003165Z",
     "start_time": "2024-05-28T15:22:43.990621Z"
    },
    "execution": {
     "iopub.execute_input": "2024-05-30T14:07:34.829484Z",
     "iopub.status.busy": "2024-05-30T14:07:34.829020Z",
     "iopub.status.idle": "2024-05-30T14:07:34.836725Z",
     "shell.execute_reply": "2024-05-30T14:07:34.835890Z"
    },
    "papermill": {
     "duration": 0.019975,
     "end_time": "2024-05-30T14:07:34.838508",
     "exception": false,
     "start_time": "2024-05-30T14:07:34.818533",
     "status": "completed"
    },
    "tags": []
   },
   "outputs": [],
   "source": [
    "# Define data transformation\n",
    "MEAN = [0.485, 0.456, 0.406]\n",
    "STD = [0.229, 0.224, 0.225]\n",
    "\n",
    "TRAIN_TRANSFORMS = A.Compose([\n",
    "    A.HorizontalFlip(p=0.5),\n",
    "    A.RandomSizedCrop(\n",
    "        [112, 128],\n",
    "        CONFIG.IMAGE_SIZE, CONFIG.IMAGE_SIZE, w2h_ratio=1.0, p=0.75),\n",
    "    A.Resize(CONFIG.IMAGE_SIZE, CONFIG.IMAGE_SIZE, interpolation=3),\n",
    "    A.RandomBrightnessContrast(brightness_limit=0.1, contrast_limit=0.1, p=0.3),\n",
    "    A.ImageCompression(quality_lower=85, quality_upper=100, p=0.3),\n",
    "    A.ToFloat(),\n",
    "    A.Normalize(mean=MEAN, std=STD, max_pixel_value=1),\n",
    "    ToTensorV2(),\n",
    "])\n",
    "\n",
    "TEST_TRANSFORMS = A.Compose([\n",
    "    A.Resize(CONFIG.IMAGE_SIZE, CONFIG.IMAGE_SIZE),\n",
    "    A.ToFloat(),\n",
    "    A.Normalize(mean=MEAN, std=STD, max_pixel_value=1),\n",
    "    ToTensorV2(),\n",
    "])"
   ]
  },
  {
   "cell_type": "code",
   "execution_count": 17,
   "id": "44083796",
   "metadata": {
    "ExecuteTime": {
     "end_time": "2024-05-28T15:22:44.048406Z",
     "start_time": "2024-05-28T15:22:44.006325Z"
    },
    "execution": {
     "iopub.execute_input": "2024-05-30T14:07:34.877801Z",
     "iopub.status.busy": "2024-05-30T14:07:34.877535Z",
     "iopub.status.idle": "2024-05-30T14:07:34.908794Z",
     "shell.execute_reply": "2024-05-30T14:07:34.907869Z"
    },
    "papermill": {
     "duration": 0.043633,
     "end_time": "2024-05-30T14:07:34.910882",
     "exception": false,
     "start_time": "2024-05-30T14:07:34.867249",
     "status": "completed"
    },
    "tags": []
   },
   "outputs": [],
   "source": [
    "# Split train and test sets\n",
    "train_idx = np.random.choice(len(train), int(0.9 * len(train)), replace=False)\n",
    "test_idx = np.setdiff1d(np.arange(len(train)), train_idx)\n",
    "\n",
    "train_images = train['jpeg_bytes'].values[train_idx]\n",
    "train_tabular = tabular_scaled[train_idx]\n",
    "train_y = y_train_scaled[train_idx]\n",
    "\n",
    "val_images = train['jpeg_bytes'].values[test_idx]\n",
    "val_tabular = tabular_scaled[test_idx]\n",
    "val_y = y_train_scaled[test_idx]\n",
    "\n",
    "test_images = test['jpeg_bytes'].values\n",
    "test_tabular = test_tabular_scaled"
   ]
  },
  {
   "cell_type": "code",
   "execution_count": 18,
   "id": "6fb353fe",
   "metadata": {
    "ExecuteTime": {
     "end_time": "2024-05-28T15:22:44.063695Z",
     "start_time": "2024-05-28T15:22:44.050495Z"
    },
    "execution": {
     "iopub.execute_input": "2024-05-30T14:07:34.931991Z",
     "iopub.status.busy": "2024-05-30T14:07:34.931683Z",
     "iopub.status.idle": "2024-05-30T14:07:34.938564Z",
     "shell.execute_reply": "2024-05-30T14:07:34.937777Z"
    },
    "papermill": {
     "duration": 0.019389,
     "end_time": "2024-05-30T14:07:34.940441",
     "exception": false,
     "start_time": "2024-05-30T14:07:34.921052",
     "status": "completed"
    },
    "tags": []
   },
   "outputs": [],
   "source": [
    "# Define datasets and dataloaders\n",
    "train_dataset = TrainDataset(\n",
    "    train_images,\n",
    "    train_tabular,\n",
    "    train_y,\n",
    "    TRAIN_TRANSFORMS\n",
    ")\n",
    "\n",
    "validation_dataset = TrainDataset(\n",
    "    val_images,\n",
    "    val_tabular,\n",
    "    val_y,\n",
    "    TEST_TRANSFORMS\n",
    ")\n",
    "\n",
    "train_dataloader = DataLoader(\n",
    "    train_dataset,\n",
    "    batch_size=CONFIG.BATCH_SIZE,\n",
    "    shuffle=True,\n",
    "    drop_last=True,\n",
    "    num_workers=0\n",
    ")\n",
    "\n",
    "validation_dataloader = DataLoader(\n",
    "    validation_dataset,\n",
    "    batch_size=CONFIG.BATCH_SIZE,\n",
    "    shuffle=False,\n",
    "    drop_last=False,\n",
    "    num_workers=0\n",
    ")\n",
    "\n",
    "test_dataset = TrainDataset(\n",
    "    test['jpeg_bytes'].values,\n",
    "    test_tabular,\n",
    "    test['id'].values,\n",
    "    TEST_TRANSFORMS,\n",
    ")\n",
    "\n",
    "test_dataloader = DataLoader(\n",
    "    test_dataset,\n",
    "    batch_size=1,\n",
    "    shuffle=False,\n",
    "    drop_last=False,\n",
    "    num_workers=0\n",
    ")"
   ]
  },
  {
   "cell_type": "markdown",
   "id": "6fddd37f",
   "metadata": {
    "papermill": {
     "duration": 0.009409,
     "end_time": "2024-05-30T14:07:34.959442",
     "exception": false,
     "start_time": "2024-05-30T14:07:34.950033",
     "status": "completed"
    },
    "tags": []
   },
   "source": [
    "## Model Training"
   ]
  },
  {
   "cell_type": "code",
   "execution_count": 19,
   "id": "13d9ec00",
   "metadata": {},
   "outputs": [
    {
     "name": "stderr",
     "output_type": "stream",
     "text": [
      "Using cache found in C:\\Users\\YANGN/.cache\\torch\\hub\\facebookresearch_dinov2_main\n",
      "C:\\Users\\YANGN/.cache\\torch\\hub\\facebookresearch_dinov2_main\\dinov2\\layers\\swiglu_ffn.py:51: UserWarning: xFormers is not available (SwiGLU)\n",
      "  warnings.warn(\"xFormers is not available (SwiGLU)\")\n",
      "C:\\Users\\YANGN/.cache\\torch\\hub\\facebookresearch_dinov2_main\\dinov2\\layers\\attention.py:33: UserWarning: xFormers is not available (Attention)\n",
      "  warnings.warn(\"xFormers is not available (Attention)\")\n",
      "C:\\Users\\YANGN/.cache\\torch\\hub\\facebookresearch_dinov2_main\\dinov2\\layers\\block.py:40: UserWarning: xFormers is not available (Block)\n",
      "  warnings.warn(\"xFormers is not available (Block)\")\n",
      "INFO:dinov2:using MLP layer as FFN\n"
     ]
    }
   ],
   "source": [
    "# Load the vision transfomer dino\n",
    "# from lora import LoRA_ViT_timm\n",
    "encoder = torch.hub.load('facebookresearch/dinov2', 'dinov2_vitb14_reg')\n",
    "\n",
    "lora_vit = DINOV2EncoderLoRA(encoder=encoder)\n",
    "img_backbone = ImageBackbone(lora_vit, 768, fixed_feature_extractor=False)\n",
    "tab_backbone = TabularBackbone(n_features=tabular_scaled.shape[1], out_features=256)\n",
    "\n",
    "model = Model(img_backbone, tab_backbone, CONFIG.N_TARGETS)\n",
    "model = model.to(device)"
   ]
  },
  {
   "cell_type": "code",
   "execution_count": 20,
   "id": "72935cb3",
   "metadata": {
    "ExecuteTime": {
     "end_time": "2024-05-28T12:23:30.270681Z",
     "start_time": "2024-05-28T12:23:30.260684Z"
    },
    "execution": {
     "iopub.execute_input": "2024-05-30T14:07:44.355706Z",
     "iopub.status.busy": "2024-05-30T14:07:44.354974Z",
     "iopub.status.idle": "2024-05-30T14:07:44.366530Z",
     "shell.execute_reply": "2024-05-30T14:07:44.365691Z"
    },
    "papermill": {
     "duration": 0.025334,
     "end_time": "2024-05-30T14:07:44.368551",
     "exception": false,
     "start_time": "2024-05-30T14:07:44.343217",
     "status": "completed"
    },
    "tags": []
   },
   "outputs": [],
   "source": [
    "# Define the metrics\n",
    "MAE = torchmetrics.regression.MeanAbsoluteError().to(device)\n",
    "R2 = torchmetrics.regression.R2Score(num_outputs=CONFIG.N_TARGETS, multioutput='uniform_average').to(device)\n",
    "LOSS = AverageMeter()\n",
    "\n",
    "Y_MEAN = torch.tensor(y_train).mean(dim=0).to(device)\n",
    "EPS = torch.tensor([1e-6]).to(device)"
   ]
  },
  {
   "cell_type": "code",
   "execution_count": 21,
   "id": "60811026",
   "metadata": {
    "ExecuteTime": {
     "end_time": "2024-05-28T12:23:30.285728Z",
     "start_time": "2024-05-28T12:23:30.271715Z"
    },
    "execution": {
     "iopub.execute_input": "2024-05-30T14:07:44.390364Z",
     "iopub.status.busy": "2024-05-30T14:07:44.390066Z",
     "iopub.status.idle": "2024-05-30T14:07:44.397184Z",
     "shell.execute_reply": "2024-05-30T14:07:44.396375Z"
    },
    "papermill": {
     "duration": 0.019385,
     "end_time": "2024-05-30T14:07:44.399060",
     "exception": false,
     "start_time": "2024-05-30T14:07:44.379675",
     "status": "completed"
    },
    "tags": []
   },
   "outputs": [],
   "source": [
    "LOSS_FN = nn.SmoothL1Loss()  # r2_loss\n",
    "\n",
    "optimizer = torch.optim.AdamW(\n",
    "    params=model.parameters(),\n",
    "    lr=CONFIG.LR_MAX,\n",
    "    weight_decay=CONFIG.WEIGHT_DECAY,\n",
    ")\n",
    "\n",
    "LR_SCHEDULER = get_lr_scheduler(optimizer)"
   ]
  },
  {
   "cell_type": "code",
   "execution_count": 22,
   "id": "01d77080",
   "metadata": {
    "ExecuteTime": {
     "end_time": "2024-05-28T12:23:52.116882Z",
     "start_time": "2024-05-28T12:23:30.286723Z"
    },
    "execution": {
     "iopub.execute_input": "2024-05-30T14:07:44.439194Z",
     "iopub.status.busy": "2024-05-30T14:07:44.438921Z",
     "iopub.status.idle": "2024-05-30T17:40:50.529172Z",
     "shell.execute_reply": "2024-05-30T17:40:50.527895Z"
    },
    "papermill": {
     "duration": 12786.103271,
     "end_time": "2024-05-30T17:40:50.531595",
     "exception": false,
     "start_time": "2024-05-30T14:07:44.428324",
     "status": "completed"
    },
    "tags": []
   },
   "outputs": [
    {
     "name": "stdout",
     "output_type": "stream",
     "text": [
      "Start Training:\n",
      "EPOCH 01, 0609/677 | loss: 0.2525, mae: 0.5308, r2: 0.3070, step: 0.766s, lr: 9.92e-044\n",
      "[0.43587974 0.41192652 0.57791484 0.33768606 0.17946709 0.38188347]\n",
      "epoch 1 the R2 is 0.3874596195977969\n",
      "----------\n",
      "EPOCH 02, 0609/677 | loss: 0.2225, mae: 0.4820, r2: 0.3898, step: 1.107s, lr: 8.84e-04\n",
      "[0.49863271 0.4705559  0.62409704 0.40988934 0.23809958 0.4451212 ]\n",
      "epoch 2 the R2 is 0.44773262559292837\n",
      "----------\n",
      "EPOCH 03, 0609/677 | loss: 0.2056, mae: 0.4581, r2: 0.4385, step: 1.149s, lr: 6.74e-04\n",
      "[0.56621809 0.53046955 0.65637636 0.44743703 0.25726914 0.47637431]\n",
      "epoch 3 the R2 is 0.4890240789218885\n",
      "----------\n",
      "EPOCH 04, 0609/677 | loss: 0.1875, mae: 0.4329, r2: 0.4905, step: 0.782s, lr: 4.19e-04\n",
      "[0.62773506 0.60262883 0.71424367 0.55880588 0.32573088 0.55166925]\n",
      "epoch 4 the R2 is 0.5634689299305472\n",
      "----------\n",
      "EPOCH 05, 0609/677 | loss: 0.1641, mae: 0.4003, r2: 0.5576, step: 1.127s, lr: 1.87e-04\n",
      "[0.69193529 0.68233185 0.7641522  0.64294579 0.42471823 0.63459056]\n",
      "epoch 5 the R2 is 0.6401123201128049\n",
      "----------\n",
      "EPOCH 06, 0609/677 | loss: 0.1371, mae: 0.3604, r2: 0.6328, step: 0.790s, lr: 4.01e-05\n",
      "[0.7489935  0.73759868 0.79459241 0.70701014 0.45720743 0.6759778 ]\n",
      "epoch 6 the R2 is 0.6868966581920786\n",
      "----------\n"
     ]
    }
   ],
   "source": [
    "print(\"Start Training:\")\n",
    "loss_list = []\n",
    "train_r2 = []\n",
    "avgr_list = []\n",
    "\n",
    "for epoch in range(CONFIG.N_EPOCHS):\n",
    "    MAE.reset()\n",
    "    R2.reset()\n",
    "    LOSS.reset()\n",
    "    model.train()\n",
    "\n",
    "    for step, (X_image, X_tabular, y_true) in enumerate(train_dataloader):\n",
    "        X_image = X_image.to(device)\n",
    "        X_tabular = X_tabular.to(device)\n",
    "        y_true = y_true.to(device)\n",
    "        model = model.to(device)\n",
    "        t_start = time.perf_counter_ns()\n",
    "        y_pred = model(X_image, X_tabular)\n",
    "        # y_pred = model(X_image)\n",
    "        loss = LOSS_FN(y_pred, y_true)\n",
    "        LOSS.update(loss)\n",
    "        loss.backward()\n",
    "        optimizer.step()\n",
    "        # xm.optimizer_step(optimizer, barrier=True)\n",
    "        optimizer.zero_grad()\n",
    "        LR_SCHEDULER.step()\n",
    "        MAE.update(y_pred, y_true)\n",
    "        R2.update(y_pred, y_true)\n",
    "\n",
    "        if not CONFIG.IS_INTERACTIVE and (step + 1) == CONFIG.N_STEPS_PER_EPOCH:\n",
    "            print(\n",
    "                f'EPOCH {epoch + 1:02d}, {step + 1:04d}/{CONFIG.N_STEPS_PER_EPOCH} | ' +\n",
    "                f'loss: {LOSS.avg:.4f}, mae: {MAE.compute().item():.4f}, r2: {R2.compute().item():.4f}, ' +\n",
    "                f'step: {(time.perf_counter_ns() - t_start) * 1e-9:.3f}s, lr: {LR_SCHEDULER.get_last_lr()[0]:.2e}',\n",
    "            )\n",
    "        elif CONFIG.IS_INTERACTIVE:\n",
    "            print(\n",
    "                f'\\rEPOCH {epoch + 1:02d}, {step + 1:04d}/{CONFIG.N_STEPS_PER_EPOCH} | ' +\n",
    "                f'loss: {LOSS.avg:.4f}, mae: {MAE.compute().item():.4f}, r2: {R2.compute().item():.4f}, ' +\n",
    "                f'step: {(time.perf_counter_ns() - t_start) * 1e-9:.3f}s, lr: {LR_SCHEDULER.get_last_lr()[0]:.2e}',\n",
    "                end='\\n' if (step + 1) == CONFIG.N_STEPS_PER_EPOCH else '', flush=True,\n",
    "            )\n",
    "    model = model.to(device)\n",
    "    model.eval()\n",
    "    loss_list.append(LOSS.avg)\n",
    "    MAE.reset()\n",
    "    R2.reset()\n",
    "    LOSS.reset()\n",
    "\n",
    "    # print('No Validation:')\n",
    "    truth = []\n",
    "    predict = []\n",
    "\n",
    "    with torch.no_grad():\n",
    "            for X_image, X_tabular, y_true in (train_dataloader):\n",
    "                X_image = X_image.to(device)\n",
    "                X_tabular = X_tabular.to(device)\n",
    "                # y_true = y_true.to(device)\n",
    "                y_pred = model(X_image, X_tabular).detach().cpu().numpy()\n",
    "                \n",
    "                y_pred = Y_SCALER.inverse_transform(y_pred)\n",
    "                y_true = Y_SCALER.inverse_transform(y_true)\n",
    "                y_pred = 10 ** y_pred\n",
    "                y_true = 10 ** y_true\n",
    "                truth.append(y_true)\n",
    "                predict.append(y_pred)\n",
    "                    \n",
    "    truth = np.concatenate(truth, axis=0)\n",
    "    predict = np.concatenate(predict, axis=0)\n",
    "    avgr = np.zeros(6)\n",
    "    \n",
    "    for f in range(6):\n",
    "        truth_trait = truth[:, f]\n",
    "        predict_trait = predict[:, f]\n",
    "        r2 = r2_score(truth_trait, predict_trait)\n",
    "        avgr[f] = r2\n",
    "\n",
    "    print()\n",
    "    avgr_list.append(avgr)\n",
    "    print(avgr)\n",
    "    print(f\"epoch {epoch+1} the R2 is {avgr.mean()}\")\n",
    "    print(\"----------\")\n",
    "    train_r2.append(avgr.mean())\n",
    "    \n",
    "    torch.save(model.to('cpu').state_dict(), f'./boosting_model_epoch{epoch}.pth')"
   ]
  },
  {
   "cell_type": "code",
   "execution_count": 23,
   "id": "12e69470",
   "metadata": {},
   "outputs": [
    {
     "data": {
      "image/png": "[encoded data removed]",
      "text/plain": [
       "<Figure size 640x480 with 1 Axes>"
      ]
     },
     "metadata": {},
     "output_type": "display_data"
    }
   ],
   "source": [
    "for idx, l in enumerate(loss_list):\n",
    "    l = l.detach().cpu().numpy()\n",
    "    loss_list[idx] = l\n",
    "\n",
    "# Plotting the loss curve\n",
    "plt.plot(loss_list, label='Training Loss')\n",
    "plt.title('Loss Curve')\n",
    "plt.xlabel('Epoch')\n",
    "plt.ylabel('Loss')\n",
    "plt.legend()\n",
    "plt.show()"
   ]
  },
  {
   "cell_type": "code",
   "execution_count": 24,
   "id": "1bb9d3cd",
   "metadata": {},
   "outputs": [
    {
     "data": {
      "image/png": "[encoded data removed]",
      "text/plain": [
       "<Figure size 640x480 with 1 Axes>"
      ]
     },
     "metadata": {},
     "output_type": "display_data"
    }
   ],
   "source": [
    "# Transpose the avgr_list to get R2 values for each trait across epochs\n",
    "r2_values_by_trait = list(zip(*avgr_list))\n",
    "\n",
    "# Plotting the R2 values for each trait\n",
    "for i, r2_values in enumerate(r2_values_by_trait):\n",
    "    plt.plot(r2_values, label=f'Trait {i+1}')\n",
    "\n",
    "plt.xticks(range(len(avgr_list)))\n",
    "plt.title('R2 Values for Plant Traits Across Epochs')\n",
    "plt.xlabel('Epoch')\n",
    "plt.ylabel('R2 Value')\n",
    "plt.legend(title='Plant Traits', bbox_to_anchor=(1, 0.5))\n",
    "plt.show()"
   ]
  },
  {
   "cell_type": "code",
   "execution_count": 25,
   "id": "314e4661",
   "metadata": {},
   "outputs": [],
   "source": [
    "# Used for validation \n",
    "# # model = model.to(device)\n",
    "# avg_r = 0\n",
    "# truth = []\n",
    "# predict = []\n",
    "\n",
    "# with torch.no_grad():\n",
    "#         for X_image, X_tabular, y_true in tqdm(validation_dataloader):\n",
    "#             X_image = X_image.to(device)\n",
    "#             X_tabular = X_tabular.to(device)\n",
    "#             # y_true = y_true.to(device)\n",
    "#             y_pred = model(X_image, X_tabular).detach().cpu().numpy()\n",
    "            \n",
    "#             y_pred = Y_SCALER.inverse_transform(y_pred)\n",
    "#             y_true = Y_SCALER.inverse_transform(y_true)\n",
    "#             y_pred = 10 ** y_pred\n",
    "#             y_true = 10 ** y_true\n",
    "#             truth.append(y_true)\n",
    "#             predict.append(y_pred)\n",
    "#             # R2.update(y_pred, y_true)\n",
    "#             # avg_r += R2.compute().item()\n",
    "#             # if not CONFIG.IS_INTERACTIVE:\n",
    "#             #     print(\n",
    "#             #         f'EPOCH {epoch + 1:02d}, VALIDATION | ' +\n",
    "#             #         f'loss: {LOSS.avg:.4f}, mae: {MAE.compute().item():.4f}, r2: {R2.compute().item():.4f}',\n",
    "#             #     )\n",
    "#             # elif CONFIG.IS_INTERACTIVE:\n",
    "#             #     print(\n",
    "#             #         f'\\rEPOCH {epoch + 1:02d}, VALIDATION | ' +\n",
    "#             #         f'loss: {LOSS.avg:.4f}, mae: {MAE.compute().item():.4f}, r2: {R2.compute().item():.4f}',\n",
    "#             #         end='\\n',\n",
    "#             #     )\n",
    "                \n",
    "# truth = np.concatenate(truth, axis=0)\n",
    "# predict = np.concatenate(predict, axis=0)\n",
    "# avgr = np.zeros(6)\n",
    "# for f in range(6):\n",
    "#     truth_trait = truth[:, f]\n",
    "#     predict_trait = predict[:, f]\n",
    "#     r2 = r2_score(truth_trait, predict_trait)\n",
    "#     avgr[f] = r2\n",
    "# print(avgr)\n",
    "# print(avgr.mean())\n",
    "\n",
    "# print(avg_r / len(train_dataloader))"
   ]
  },
  {
   "cell_type": "code",
   "execution_count": 26,
   "id": "54da1202",
   "metadata": {
    "execution": {
     "iopub.execute_input": "2024-05-30T17:40:51.325050Z",
     "iopub.status.busy": "2024-05-30T17:40:51.324075Z",
     "iopub.status.idle": "2024-05-30T17:40:52.878320Z",
     "shell.execute_reply": "2024-05-30T17:40:52.877452Z"
    },
    "papermill": {
     "duration": 1.992766,
     "end_time": "2024-05-30T17:40:52.880617",
     "exception": false,
     "start_time": "2024-05-30T17:40:50.887851",
     "status": "completed"
    },
    "tags": []
   },
   "outputs": [],
   "source": [
    "# Save the model\n",
    "torch.save(model.to('cpu').state_dict(), './model_dinolora.pth')"
   ]
  },
  {
   "cell_type": "code",
   "execution_count": 28,
   "id": "4af646da",
   "metadata": {},
   "outputs": [
    {
     "name": "stderr",
     "output_type": "stream",
     "text": [
      "Using cache found in C:\\Users\\YANGN/.cache\\torch\\hub\\facebookresearch_dinov2_main\n",
      "INFO:dinov2:using MLP layer as FFN\n"
     ]
    }
   ],
   "source": [
    "# Load the model if want to use certain checkpoint\n",
    "checkpoint_path = \"./model_dinolora.pth\"\n",
    "\n",
    "encoder = torch.hub.load('facebookresearch/dinov2', 'dinov2_vitb14_reg')\n",
    "\n",
    "# encoder = timm.create_model(\n",
    "#     'vit_base_patch32_clip_224.openai_ft_in1k',\n",
    "#     pretrained=True,\n",
    "#     num_classes=0,  # remove classifier nn.Linear\n",
    "# )\n",
    "\n",
    "lora_vit = DINOV2EncoderLoRA(encoder=encoder)\n",
    "img_backbone = ImageBackbone(lora_vit, 768, fixed_feature_extractor=False)\n",
    "tab_backbone = TabularBackbone(n_features=tabular_scaled.shape[1], out_features=256)\n",
    "\n",
    "model = Model(img_backbone, tab_backbone, CONFIG.N_TARGETS)\n",
    "\n",
    "# Load the model weights\n",
    "model.load_state_dict(torch.load(checkpoint_path))\n",
    "model = model.to(device)"
   ]
  },
  {
   "cell_type": "markdown",
   "id": "cc280b2f",
   "metadata": {
    "papermill": {
     "duration": 0.365443,
     "end_time": "2024-05-30T17:40:53.598020",
     "exception": false,
     "start_time": "2024-05-30T17:40:53.232577",
     "status": "completed"
    },
    "tags": []
   },
   "source": [
    "## Lightgbm"
   ]
  },
  {
   "cell_type": "code",
   "execution_count": 30,
   "id": "44155a73",
   "metadata": {},
   "outputs": [
    {
     "data": {
      "application/vnd.jupyter.widget-view+json": {
       "model_id": "113aabc40453470ea58e1a32f763300b",
       "version_major": 2,
       "version_minor": 0
      },
      "text/plain": [
       "  0%|          | 0/609 [00:00<?, ?it/s]"
      ]
     },
     "metadata": {},
     "output_type": "display_data"
    }
   ],
   "source": [
    "from lightgbm import LGBMRegressor\n",
    "\n",
    "truth = []\n",
    "mid_layers = []\n",
    "\n",
    "with torch.no_grad():\n",
    "        for X_image, X_tabular, y_true in tqdm(train_dataloader):\n",
    "            X_image = X_image.to(device)\n",
    "            X_tabular = X_tabular.to(device)\n",
    "            # y_true = y_true.to(device)\n",
    "            mid_layer = model.get_middle_layer2(X_image, X_tabular).detach().cpu().numpy()\n",
    "            mid_layers.append(mid_layer)\n",
    "            truth.append(y_true.numpy())\n",
    "\n",
    "mid_layers = np.concatenate(mid_layers, axis=0)\n",
    "truth = np.concatenate(truth, axis=0)"
   ]
  },
  {
   "cell_type": "code",
   "execution_count": 31,
   "id": "46deba78",
   "metadata": {},
   "outputs": [
    {
     "name": "stdout",
     "output_type": "stream",
     "text": [
      "[LightGBM] [Info] Auto-choosing col-wise multi-threading, the overhead of testing was 0.048768 seconds.\n",
      "You can set `force_col_wise=true` to remove the overhead.\n",
      "[LightGBM] [Info] Total Bins 130560\n",
      "[LightGBM] [Info] Number of data points in the train set: 38976, number of used features: 512\n",
      "[LightGBM] [Info] Start training from score 0.001851\n",
      "[LightGBM] [Info] Auto-choosing col-wise multi-threading, the overhead of testing was 0.051664 seconds.\n",
      "You can set `force_col_wise=true` to remove the overhead.\n",
      "[LightGBM] [Info] Total Bins 130560\n",
      "[LightGBM] [Info] Number of data points in the train set: 38976, number of used features: 512\n",
      "[LightGBM] [Info] Start training from score -0.001516\n",
      "[LightGBM] [Info] Auto-choosing col-wise multi-threading, the overhead of testing was 0.050550 seconds.\n",
      "You can set `force_col_wise=true` to remove the overhead.\n",
      "[LightGBM] [Info] Total Bins 130560\n",
      "[LightGBM] [Info] Number of data points in the train set: 38976, number of used features: 512\n",
      "[LightGBM] [Info] Start training from score 0.000815\n",
      "[LightGBM] [Info] Auto-choosing col-wise multi-threading, the overhead of testing was 0.048903 seconds.\n",
      "You can set `force_col_wise=true` to remove the overhead.\n",
      "[LightGBM] [Info] Total Bins 130560\n",
      "[LightGBM] [Info] Number of data points in the train set: 38976, number of used features: 512\n",
      "[LightGBM] [Info] Start training from score 0.001263\n",
      "[LightGBM] [Info] Auto-choosing col-wise multi-threading, the overhead of testing was 0.048961 seconds.\n",
      "You can set `force_col_wise=true` to remove the overhead.\n",
      "[LightGBM] [Info] Total Bins 130560\n",
      "[LightGBM] [Info] Number of data points in the train set: 38976, number of used features: 512\n",
      "[LightGBM] [Info] Start training from score 0.000040\n",
      "[LightGBM] [Info] Auto-choosing col-wise multi-threading, the overhead of testing was 0.052851 seconds.\n",
      "You can set `force_col_wise=true` to remove the overhead.\n",
      "[LightGBM] [Info] Total Bins 130560\n",
      "[LightGBM] [Info] Number of data points in the train set: 38976, number of used features: 512\n",
      "[LightGBM] [Info] Start training from score -0.000633\n"
     ]
    },
    {
     "data": {
      "text/html": [
       "<style>#sk-container-id-1 {color: black;}#sk-container-id-1 pre{padding: 0;}#sk-container-id-1 div.sk-toggleable {background-color: white;}#sk-container-id-1 label.sk-toggleable__label {cursor: pointer;display: block;width: 100%;margin-bottom: 0;padding: 0.3em;box-sizing: border-box;text-align: center;}#sk-container-id-1 label.sk-toggleable__label-arrow:before {content: \"▸\";float: left;margin-right: 0.25em;color: #696969;}#sk-container-id-1 label.sk-toggleable__label-arrow:hover:before {color: black;}#sk-container-id-1 div.sk-estimator:hover label.sk-toggleable__label-arrow:before {color: black;}#sk-container-id-1 div.sk-toggleable__content {max-height: 0;max-width: 0;overflow: hidden;text-align: left;background-color: #f0f8ff;}#sk-container-id-1 div.sk-toggleable__content pre {margin: 0.2em;color: black;border-radius: 0.25em;background-color: #f0f8ff;}#sk-container-id-1 input.sk-toggleable__control:checked~div.sk-toggleable__content {max-height: 200px;max-width: 100%;overflow: auto;}#sk-container-id-1 input.sk-toggleable__control:checked~label.sk-toggleable__label-arrow:before {content: \"▾\";}#sk-container-id-1 div.sk-estimator input.sk-toggleable__control:checked~label.sk-toggleable__label {background-color: #d4ebff;}#sk-container-id-1 div.sk-label input.sk-toggleable__control:checked~label.sk-toggleable__label {background-color: #d4ebff;}#sk-container-id-1 input.sk-hidden--visually {border: 0;clip: rect(1px 1px 1px 1px);clip: rect(1px, 1px, 1px, 1px);height: 1px;margin: -1px;overflow: hidden;padding: 0;position: absolute;width: 1px;}#sk-container-id-1 div.sk-estimator {font-family: monospace;background-color: #f0f8ff;border: 1px dotted black;border-radius: 0.25em;box-sizing: border-box;margin-bottom: 0.5em;}#sk-container-id-1 div.sk-estimator:hover {background-color: #d4ebff;}#sk-container-id-1 div.sk-parallel-item::after {content: \"\";width: 100%;border-bottom: 1px solid gray;flex-grow: 1;}#sk-container-id-1 div.sk-label:hover label.sk-toggleable__label {background-color: #d4ebff;}#sk-container-id-1 div.sk-serial::before {content: \"\";position: absolute;border-left: 1px solid gray;box-sizing: border-box;top: 0;bottom: 0;left: 50%;z-index: 0;}#sk-container-id-1 div.sk-serial {display: flex;flex-direction: column;align-items: center;background-color: white;padding-right: 0.2em;padding-left: 0.2em;position: relative;}#sk-container-id-1 div.sk-item {position: relative;z-index: 1;}#sk-container-id-1 div.sk-parallel {display: flex;align-items: stretch;justify-content: center;background-color: white;position: relative;}#sk-container-id-1 div.sk-item::before, #sk-container-id-1 div.sk-parallel-item::before {content: \"\";position: absolute;border-left: 1px solid gray;box-sizing: border-box;top: 0;bottom: 0;left: 50%;z-index: -1;}#sk-container-id-1 div.sk-parallel-item {display: flex;flex-direction: column;z-index: 1;position: relative;background-color: white;}#sk-container-id-1 div.sk-parallel-item:first-child::after {align-self: flex-end;width: 50%;}#sk-container-id-1 div.sk-parallel-item:last-child::after {align-self: flex-start;width: 50%;}#sk-container-id-1 div.sk-parallel-item:only-child::after {width: 0;}#sk-container-id-1 div.sk-dashed-wrapped {border: 1px dashed gray;margin: 0 0.4em 0.5em 0.4em;box-sizing: border-box;padding-bottom: 0.4em;background-color: white;}#sk-container-id-1 div.sk-label label {font-family: monospace;font-weight: bold;display: inline-block;line-height: 1.2em;}#sk-container-id-1 div.sk-label-container {text-align: center;}#sk-container-id-1 div.sk-container {/* jupyter's `normalize.less` sets `[hidden] { display: none; }` but bootstrap.min.css set `[hidden] { display: none !important; }` so we also need the `!important` here to be able to override the default hidden behavior on the sphinx rendered scikit-learn.org. See: https://github.com/scikit-learn/scikit-learn/issues/21755 */display: inline-block !important;position: relative;}#sk-container-id-1 div.sk-text-repr-fallback {display: none;}</style><div id=\"sk-container-id-1\" class=\"sk-top-container\"><div class=\"sk-text-repr-fallback\"><pre>MultiOutputRegressor(estimator=LGBMRegressor(learning_rate=0.05,\n",
       "                                             n_estimators=2000,\n",
       "                                             objective=&#x27;rmse&#x27;,\n",
       "                                             random_state=42))</pre><b>In a Jupyter environment, please rerun this cell to show the HTML representation or trust the notebook. <br />On GitHub, the HTML representation is unable to render, please try loading this page with nbviewer.org.</b></div><div class=\"sk-container\" hidden><div class=\"sk-item sk-dashed-wrapped\"><div class=\"sk-label-container\"><div class=\"sk-label sk-toggleable\"><input class=\"sk-toggleable__control sk-hidden--visually\" id=\"sk-estimator-id-1\" type=\"checkbox\" ><label for=\"sk-estimator-id-1\" class=\"sk-toggleable__label sk-toggleable__label-arrow\">MultiOutputRegressor</label><div class=\"sk-toggleable__content\"><pre>MultiOutputRegressor(estimator=LGBMRegressor(learning_rate=0.05,\n",
       "                                             n_estimators=2000,\n",
       "                                             objective=&#x27;rmse&#x27;,\n",
       "                                             random_state=42))</pre></div></div></div><div class=\"sk-parallel\"><div class=\"sk-parallel-item\"><div class=\"sk-item\"><div class=\"sk-label-container\"><div class=\"sk-label sk-toggleable\"><input class=\"sk-toggleable__control sk-hidden--visually\" id=\"sk-estimator-id-2\" type=\"checkbox\" ><label for=\"sk-estimator-id-2\" class=\"sk-toggleable__label sk-toggleable__label-arrow\">estimator: LGBMRegressor</label><div class=\"sk-toggleable__content\"><pre>LGBMRegressor(learning_rate=0.05, n_estimators=2000, objective=&#x27;rmse&#x27;,\n",
       "              random_state=42)</pre></div></div></div><div class=\"sk-serial\"><div class=\"sk-item\"><div class=\"sk-estimator sk-toggleable\"><input class=\"sk-toggleable__control sk-hidden--visually\" id=\"sk-estimator-id-3\" type=\"checkbox\" ><label for=\"sk-estimator-id-3\" class=\"sk-toggleable__label sk-toggleable__label-arrow\">LGBMRegressor</label><div class=\"sk-toggleable__content\"><pre>LGBMRegressor(learning_rate=0.05, n_estimators=2000, objective=&#x27;rmse&#x27;,\n",
       "              random_state=42)</pre></div></div></div></div></div></div></div></div></div></div>"
      ],
      "text/plain": [
       "MultiOutputRegressor(estimator=LGBMRegressor(learning_rate=0.05,\n",
       "                                             n_estimators=2000,\n",
       "                                             objective='rmse',\n",
       "                                             random_state=42))"
      ]
     },
     "execution_count": 31,
     "metadata": {},
     "output_type": "execute_result"
    }
   ],
   "source": [
    "from sklearn.multioutput import MultiOutputRegressor\n",
    "\n",
    "lgbm = MultiOutputRegressor(LGBMRegressor(\n",
    "    objective='rmse',\n",
    "    learning_rate=0.05,\n",
    "    n_estimators=2000,\n",
    "    #max_bin=500,\n",
    "    #num_leaves=1000,\n",
    "    random_state=42))\n",
    "lgbm.fit(mid_layers, truth)"
   ]
  },
  {
   "cell_type": "markdown",
   "id": "98df81c0",
   "metadata": {},
   "source": [
    "## Prepare for Submitting"
   ]
  },
  {
   "cell_type": "code",
   "execution_count": 32,
   "id": "47bd891c",
   "metadata": {},
   "outputs": [
    {
     "data": {
      "application/vnd.jupyter.widget-view+json": {
       "model_id": "7d0d8e6bffae4c6fb7cab9b1019f16eb",
       "version_major": 2,
       "version_minor": 0
      },
      "text/plain": [
       "  0%|          | 0/6391 [00:00<?, ?it/s]"
      ]
     },
     "metadata": {},
     "output_type": "display_data"
    }
   ],
   "source": [
    "model.to(device)\n",
    "SUBMISSION_ROWS = []\n",
    "model.eval()\n",
    "\n",
    "for X_image, X_tabular, test_id in tqdm(test_dataloader):\n",
    "    with torch.no_grad():\n",
    "        mi_test = model.get_middle_layer2(X_image.to(device), X_tabular.to(device)).detach().cpu().numpy()\n",
    "    y_pred = lgbm.predict(mi_test)\n",
    "    # y_pred = np.zeros(len(CONFIG.TARGET_COLUMNS))\n",
    "    # for i, col in enumerate(CONFIG.TARGET_COLUMNS):\n",
    "    #     cat = models[col]\n",
    "    #     pred = cat.predict(test_pool)\n",
    "    #     y_pred[i] = pred[0]\n",
    "    # y_pred = y_pred.reshape((1, 6))\n",
    "    y_pred = Y_SCALER.inverse_transform(y_pred).reshape(6)\n",
    "    row = {'id': int(test_id)}\n",
    "    \n",
    "    for k, v in zip(CONFIG.TARGET_COLUMNS, y_pred):\n",
    "        if k in LOG_FEATURES:\n",
    "            row[k.replace('_mean', '')] = 10 ** v\n",
    "        else:\n",
    "            row[k.replace('_mean', '')] = v\n",
    "\n",
    "    SUBMISSION_ROWS.append(row)"
   ]
  },
  {
   "cell_type": "code",
   "execution_count": 33,
   "id": "576e30fd",
   "metadata": {},
   "outputs": [
    {
     "name": "stdout",
     "output_type": "stream",
     "text": [
      "Done!\n"
     ]
    }
   ],
   "source": [
    "# Reorder the submission_df\n",
    "submission_df = pd.DataFrame(SUBMISSION_ROWS)\n",
    "submission_df = submission_df[['id', 'X4', 'X11', 'X18', 'X26', 'X50', 'X3112']]\n",
    "submission_df.to_csv('./submission.csv', index=False)\n",
    "print(\"Done!\")"
   ]
  },
  {
   "cell_type": "code",
   "execution_count": 34,
   "id": "16428a60",
   "metadata": {},
   "outputs": [
    {
     "data": {
      "text/plain": [
       "Index(['id', 'X4', 'X11', 'X18', 'X26', 'X50', 'X3112'], dtype='object')"
      ]
     },
     "execution_count": 34,
     "metadata": {},
     "output_type": "execute_result"
    }
   ],
   "source": [
    "submission_df.columns"
   ]
  },
  {
   "cell_type": "markdown",
   "id": "545e7688",
   "metadata": {},
   "source": [
    "Reference: Modified based on the Kaggle notebook: https://www.kaggle.com/code/riverfog7/efficientnet-image-tabular-eda-training#Model-Training---Pre; LoRA Github code: https://github.com/RobvanGastel/dinov2-finetune"
   ]
  }
 ],
 "metadata": {
  "kaggle": {
   "accelerator": "gpu",
   "dataSources": [
    {
     "databundleVersionId": 8046133,
     "sourceId": 65626,
     "sourceType": "competition"
    },
    {
     "sourceId": 171738161,
     "sourceType": "kernelVersion"
    },
    {
     "modelInstanceId": 49034,
     "sourceId": 58532,
     "sourceType": "modelInstanceVersion"
    }
   ],
   "dockerImageVersionId": 30698,
   "isGpuEnabled": true,
   "isInternetEnabled": false,
   "language": "python",
   "sourceType": "notebook"
  },
  "kernelspec": {
   "display_name": "Python 3",
   "language": "python",
   "name": "python3"
  },
  "language_info": {
   "codemirror_mode": {
    "name": "ipython",
    "version": 3
   },
   "file_extension": ".py",
   "mimetype": "text/x-python",
   "name": "python",
   "nbconvert_exporter": "python",
   "pygments_lexer": "ipython3",
   "version": "3.11.5"
  },
  "papermill": {
   "default_parameters": {},
   "duration": 13453.595127,
   "end_time": "2024-05-30T17:47:18.696211",
   "environment_variables": {},
   "exception": null,
   "input_path": "__notebook__.ipynb",
   "output_path": "__notebook__.ipynb",
   "parameters": {},
   "start_time": "2024-05-30T14:03:05.101084",
   "version": "2.5.0"
  },
  "widgets": {
   "application/vnd.jupyter.widget-state+json": {
    "state": {
     "46b64130b891455599ff9d4262ff6bcd": {
      "model_module": "@jupyter-widgets/base",
      "model_module_version": "1.2.0",
      "model_name": "LayoutModel",
      "state": {
       "_model_module": "@jupyter-widgets/base",
       "_model_module_version": "1.2.0",
       "_model_name": "LayoutModel",
       "_view_count": null,
       "_view_module": "@jupyter-widgets/base",
       "_view_module_version": "1.2.0",
       "_view_name": "LayoutView",
       "align_content": null,
       "align_items": null,
       "align_self": null,
       "border": null,
       "bottom": null,
       "display": null,
       "flex": null,
       "flex_flow": null,
       "grid_area": null,
       "grid_auto_columns": null,
       "grid_auto_flow": null,
       "grid_auto_rows": null,
       "grid_column": null,
       "grid_gap": null,
       "grid_row": null,
       "grid_template_areas": null,
       "grid_template_columns": null,
       "grid_template_rows": null,
       "height": null,
       "justify_content": null,
       "justify_items": null,
       "left": null,
       "margin": null,
       "max_height": null,
       "max_width": null,
       "min_height": null,
       "min_width": null,
       "object_fit": null,
       "object_position": null,
       "order": null,
       "overflow": null,
       "overflow_x": null,
       "overflow_y": null,
       "padding": null,
       "right": null,
       "top": null,
       "visibility": null,
       "width": null
      }
     },
     "564ea5d3b7544a909aae2db382eb532f": {
      "model_module": "@jupyter-widgets/controls",
      "model_module_version": "1.5.0",
      "model_name": "FloatProgressModel",
      "state": {
       "_dom_classes": [],
       "_model_module": "@jupyter-widgets/controls",
       "_model_module_version": "1.5.0",
       "_model_name": "FloatProgressModel",
       "_view_count": null,
       "_view_module": "@jupyter-widgets/controls",
       "_view_module_version": "1.5.0",
       "_view_name": "ProgressView",
       "bar_style": "success",
       "description": "",
       "description_tooltip": null,
       "layout": "IPY_MODEL_46b64130b891455599ff9d4262ff6bcd",
       "max": 6545,
       "min": 0,
       "orientation": "horizontal",
       "style": "IPY_MODEL_e1f679816a154e4899ebe349c51acf40",
       "value": 6545
      }
     },
     "68d04a75f5924e45ac457842769db835": {
      "model_module": "@jupyter-widgets/controls",
      "model_module_version": "1.5.0",
      "model_name": "HBoxModel",
      "state": {
       "_dom_classes": [],
       "_model_module": "@jupyter-widgets/controls",
       "_model_module_version": "1.5.0",
       "_model_name": "HBoxModel",
       "_view_count": null,
       "_view_module": "@jupyter-widgets/controls",
       "_view_module_version": "1.5.0",
       "_view_name": "HBoxView",
       "box_style": "",
       "children": [
        "IPY_MODEL_c7a3185f1a524f1897c2fa581e69279d",
        "IPY_MODEL_564ea5d3b7544a909aae2db382eb532f",
        "IPY_MODEL_819b8aaa161f4e0795f42f2320a308fb"
       ],
       "layout": "IPY_MODEL_787d788874654f3cb5069abba22d3294"
      }
     },
     "787d788874654f3cb5069abba22d3294": {
      "model_module": "@jupyter-widgets/base",
      "model_module_version": "1.2.0",
      "model_name": "LayoutModel",
      "state": {
       "_model_module": "@jupyter-widgets/base",
       "_model_module_version": "1.2.0",
       "_model_name": "LayoutModel",
       "_view_count": null,
       "_view_module": "@jupyter-widgets/base",
       "_view_module_version": "1.2.0",
       "_view_name": "LayoutView",
       "align_content": null,
       "align_items": null,
       "align_self": null,
       "border": null,
       "bottom": null,
       "display": null,
       "flex": null,
       "flex_flow": null,
       "grid_area": null,
       "grid_auto_columns": null,
       "grid_auto_flow": null,
       "grid_auto_rows": null,
       "grid_column": null,
       "grid_gap": null,
       "grid_row": null,
       "grid_template_areas": null,
       "grid_template_columns": null,
       "grid_template_rows": null,
       "height": null,
       "justify_content": null,
       "justify_items": null,
       "left": null,
       "margin": null,
       "max_height": null,
       "max_width": null,
       "min_height": null,
       "min_width": null,
       "object_fit": null,
       "object_position": null,
       "order": null,
       "overflow": null,
       "overflow_x": null,
       "overflow_y": null,
       "padding": null,
       "right": null,
       "top": null,
       "visibility": null,
       "width": null
      }
     },
     "8123c7a5be1049dca7be71ece18eb570": {
      "model_module": "@jupyter-widgets/base",
      "model_module_version": "1.2.0",
      "model_name": "LayoutModel",
      "state": {
       "_model_module": "@jupyter-widgets/base",
       "_model_module_version": "1.2.0",
       "_model_name": "LayoutModel",
       "_view_count": null,
       "_view_module": "@jupyter-widgets/base",
       "_view_module_version": "1.2.0",
       "_view_name": "LayoutView",
       "align_content": null,
       "align_items": null,
       "align_self": null,
       "border": null,
       "bottom": null,
       "display": null,
       "flex": null,
       "flex_flow": null,
       "grid_area": null,
       "grid_auto_columns": null,
       "grid_auto_flow": null,
       "grid_auto_rows": null,
       "grid_column": null,
       "grid_gap": null,
       "grid_row": null,
       "grid_template_areas": null,
       "grid_template_columns": null,
       "grid_template_rows": null,
       "height": null,
       "justify_content": null,
       "justify_items": null,
       "left": null,
       "margin": null,
       "max_height": null,
       "max_width": null,
       "min_height": null,
       "min_width": null,
       "object_fit": null,
       "object_position": null,
       "order": null,
       "overflow": null,
       "overflow_x": null,
       "overflow_y": null,
       "padding": null,
       "right": null,
       "top": null,
       "visibility": null,
       "width": null
      }
     },
     "819b8aaa161f4e0795f42f2320a308fb": {
      "model_module": "@jupyter-widgets/controls",
      "model_module_version": "1.5.0",
      "model_name": "HTMLModel",
      "state": {
       "_dom_classes": [],
       "_model_module": "@jupyter-widgets/controls",
       "_model_module_version": "1.5.0",
       "_model_name": "HTMLModel",
       "_view_count": null,
       "_view_module": "@jupyter-widgets/controls",
       "_view_module_version": "1.5.0",
       "_view_name": "HTMLView",
       "description": "",
       "description_tooltip": null,
       "layout": "IPY_MODEL_c989c0a812d540e7ac943ec4954a0564",
       "placeholder": "​",
       "style": "IPY_MODEL_d7f1f9e586b04c2ebc54437b8e8d15ac",
       "value": " 6545/6545 [06:20&lt;00:00, 17.39it/s]"
      }
     },
     "c7a3185f1a524f1897c2fa581e69279d": {
      "model_module": "@jupyter-widgets/controls",
      "model_module_version": "1.5.0",
      "model_name": "HTMLModel",
      "state": {
       "_dom_classes": [],
       "_model_module": "@jupyter-widgets/controls",
       "_model_module_version": "1.5.0",
       "_model_name": "HTMLModel",
       "_view_count": null,
       "_view_module": "@jupyter-widgets/controls",
       "_view_module_version": "1.5.0",
       "_view_name": "HTMLView",
       "description": "",
       "description_tooltip": null,
       "layout": "IPY_MODEL_8123c7a5be1049dca7be71ece18eb570",
       "placeholder": "​",
       "style": "IPY_MODEL_df7c33eddc7b4c26afbd6c33ab038646",
       "value": "100%"
      }
     },
     "c989c0a812d540e7ac943ec4954a0564": {
      "model_module": "@jupyter-widgets/base",
      "model_module_version": "1.2.0",
      "model_name": "LayoutModel",
      "state": {
       "_model_module": "@jupyter-widgets/base",
       "_model_module_version": "1.2.0",
       "_model_name": "LayoutModel",
       "_view_count": null,
       "_view_module": "@jupyter-widgets/base",
       "_view_module_version": "1.2.0",
       "_view_name": "LayoutView",
       "align_content": null,
       "align_items": null,
       "align_self": null,
       "border": null,
       "bottom": null,
       "display": null,
       "flex": null,
       "flex_flow": null,
       "grid_area": null,
       "grid_auto_columns": null,
       "grid_auto_flow": null,
       "grid_auto_rows": null,
       "grid_column": null,
       "grid_gap": null,
       "grid_row": null,
       "grid_template_areas": null,
       "grid_template_columns": null,
       "grid_template_rows": null,
       "height": null,
       "justify_content": null,
       "justify_items": null,
       "left": null,
       "margin": null,
       "max_height": null,
       "max_width": null,
       "min_height": null,
       "min_width": null,
       "object_fit": null,
       "object_position": null,
       "order": null,
       "overflow": null,
       "overflow_x": null,
       "overflow_y": null,
       "padding": null,
       "right": null,
       "top": null,
       "visibility": null,
       "width": null
      }
     },
     "d7f1f9e586b04c2ebc54437b8e8d15ac": {
      "model_module": "@jupyter-widgets/controls",
      "model_module_version": "1.5.0",
      "model_name": "DescriptionStyleModel",
      "state": {
       "_model_module": "@jupyter-widgets/controls",
       "_model_module_version": "1.5.0",
       "_model_name": "DescriptionStyleModel",
       "_view_count": null,
       "_view_module": "@jupyter-widgets/base",
       "_view_module_version": "1.2.0",
       "_view_name": "StyleView",
       "description_width": ""
      }
     },
     "df7c33eddc7b4c26afbd6c33ab038646": {
      "model_module": "@jupyter-widgets/controls",
      "model_module_version": "1.5.0",
      "model_name": "DescriptionStyleModel",
      "state": {
       "_model_module": "@jupyter-widgets/controls",
       "_model_module_version": "1.5.0",
       "_model_name": "DescriptionStyleModel",
       "_view_count": null,
       "_view_module": "@jupyter-widgets/base",
       "_view_module_version": "1.2.0",
       "_view_name": "StyleView",
       "description_width": ""
      }
     },
     "e1f679816a154e4899ebe349c51acf40": {
      "model_module": "@jupyter-widgets/controls",
      "model_module_version": "1.5.0",
      "model_name": "ProgressStyleModel",
      "state": {
       "_model_module": "@jupyter-widgets/controls",
       "_model_module_version": "1.5.0",
       "_model_name": "ProgressStyleModel",
       "_view_count": null,
       "_view_module": "@jupyter-widgets/base",
       "_view_module_version": "1.2.0",
       "_view_name": "StyleView",
       "bar_color": null,
       "description_width": ""
      }
     }
    },
    "version_major": 2,
    "version_minor": 0
   }
  }
 },
 "nbformat": 4,
 "nbformat_minor": 5
}
